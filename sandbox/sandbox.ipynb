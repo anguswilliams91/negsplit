{
 "cells": [
  {
   "cell_type": "code",
   "execution_count": null,
   "metadata": {},
   "outputs": [],
   "source": [
    "import os\n",
    "os.sys.path.insert(0, \"..\")\n",
    "\n",
    "import matplotlib.pyplot as plt\n",
    "import numpy as np\n",
    "import pystan\n",
    "import seaborn as sns\n",
    "import stravalib\n",
    "from secret import *\n",
    "\n",
    "%matplotlib inline\n",
    "plt.rcParams[\"figure.figsize\"] = (10, 7)"
   ]
  },
  {
   "cell_type": "markdown",
   "metadata": {},
   "source": [
    "# Modelling my strava data\n",
    "\n",
    "## 1. Get the data out of the API"
   ]
  },
  {
   "cell_type": "code",
   "execution_count": null,
   "metadata": {},
   "outputs": [],
   "source": [
    "client = stravalib.Client(access_token=ACCESS_TOKEN)\n",
    "client.get_athlete()\n",
    "activities = client.get_activities()\n",
    "runs = (ai for ai in activities if ai.type == \"Run\" and ai.manual == False)\n",
    "\n",
    "def get_run_data(run):\n",
    "    streams = client.get_activity_streams(\n",
    "        run.id,\n",
    "        types=[\"time\", \"distance\", \"grade_smooth\", \"velocity_smooth\", \"moving\"]\n",
    "    )\n",
    "    m = streams[\"moving\"].data\n",
    "    data = {\n",
    "        \"time\": np.array(streams[\"time\"].data)[m],\n",
    "        \"distance\": np.array(streams[\"time\"].data)[m],\n",
    "        \"speed\": np.array(streams[\"velocity_smooth\"].data)[m],\n",
    "        \"gradient\": np.array(streams[\"grade_smooth\"].data)[m]\n",
    "    }\n",
    "    return data\n",
    "data = get_run_data(next(runs))"
   ]
  },
  {
   "cell_type": "code",
   "execution_count": null,
   "metadata": {},
   "outputs": [],
   "source": [
    "plt.plot(data[\"time\"], np.log1p(data[\"speed\"]))"
   ]
  },
  {
   "cell_type": "markdown",
   "metadata": {},
   "source": [
    "# 2. Simple model\n",
    "\n",
    "A mean reverting random walk (Ornstein-Uhlenbeck process):\n",
    "\n",
    "$$u_i \\sim \\mathcal{N}\\left( u_{i-1} + \\theta(\\mu_{i-1} - u_{i - 1}),\\;\\sigma^2\\right)$$\n",
    "\n",
    "where $u_i = \\log(1 + v_i)$."
   ]
  },
  {
   "cell_type": "code",
   "execution_count": null,
   "metadata": {},
   "outputs": [],
   "source": [
    "simple_model = \"\"\"\n",
    "data {\n",
    "  int<lower=0> n;\n",
    "  vector[n] log_v;\n",
    "}\n",
    "parameters {\n",
    "  // random walk parameters\n",
    "  real<lower=0, upper=1> theta;\n",
    "  real<lower=0> sigma;\n",
    "  real mu;\n",
    "}\n",
    "model {\n",
    "    for (i in 2:n) log_v[i] ~ normal(log_v[i - 1] + theta*(mu - log_v[i - 1]), sigma);\n",
    "}\n",
    "generated quantities {\n",
    "  vector[n] log_v_rep;\n",
    "  log_v_rep[1] = normal_rng(mu, sigma);\n",
    "  for (i in 2:n) log_v_rep[i] = normal_rng(log_v_rep[i - 1] + theta*(mu - log_v_rep[i - 1]), sigma);\n",
    "}\n",
    "\"\"\""
   ]
  },
  {
   "cell_type": "code",
   "execution_count": null,
   "metadata": {},
   "outputs": [],
   "source": [
    "model = pystan.StanModel(model_code=simple_model)"
   ]
  },
  {
   "cell_type": "code",
   "execution_count": null,
   "metadata": {},
   "outputs": [],
   "source": [
    "stan_data = {\n",
    "    \"n\": len(data[\"speed\"]),\n",
    "    \"log_v\": np.log1p(data[\"speed\"])\n",
    "}\n",
    "fit = model.sampling(data=stan_data, seed=42)"
   ]
  },
  {
   "cell_type": "code",
   "execution_count": null,
   "metadata": {},
   "outputs": [],
   "source": [
    "plt.plot(fit[\"log_v_rep\"][0, :])\n",
    "plt.plot(np.log1p(data[\"speed\"]));"
   ]
  },
  {
   "cell_type": "markdown",
   "metadata": {},
   "source": [
    "This model is overestimating the variance in speed - presumably because there are some outlier points. These might be because I had to stop to cross the road, or just an issue with the GPS.\n",
    "\n",
    "## 3. Model with outliers\n",
    "\n",
    "$$u_i \\sim \\mathcal{N}\\left( u_{i-1} + \\theta(\\mu_{i-1} - u_{i - 1}) + p_i,\\;\\sigma^2\\right)$$\n",
    "\n",
    "where $u_i = \\log(1 + v_i)$ and $p_i$ is constant that allows for extreme values. Since there is one of these per point in the timeseries, but I only expect a few of them to be non-zero, a prior that induces sparseness is appropriate. The usual L1 (LASSO or Laplace) prior isn't appropriate when sampling from the full posterior, so use a [Finnish Horseshoe](https://arxiv.org/abs/1707.01694). Later it might turn out that sampling isn't really needed, in which case LASSO should be ok."
   ]
  },
  {
   "cell_type": "code",
   "execution_count": null,
   "metadata": {},
   "outputs": [],
   "source": [
    "outlier_model = \"\"\"\n",
    "data {\n",
    "  int<lower=0> n;\n",
    "  vector[n] log_v;\n",
    "}\n",
    "transformed data {\n",
    "  real m0 = 10; \n",
    "  real slab_scale = 3; \n",
    "  real slab_scale2 = square(slab_scale);\n",
    "  real slab_df = 25;\n",
    "  real half_slab_df = 0.5 * slab_df;\n",
    "}\n",
    "parameters {\n",
    "  // random walk parameters\n",
    "  real<lower=0, upper=1> theta;\n",
    "  real<lower=0> sigma;\n",
    "  real<lower=0> mu;\n",
    "  \n",
    "  //outlier effects + finnish horseshoe prior\n",
    "  vector[n - 1] p_tilde;\n",
    "  vector<lower=0>[n - 1] lambda;\n",
    "  real<lower=0> tau_tilde;\n",
    "  real<lower=0> c2_tilde;\n",
    "}\n",
    "transformed parameters {\n",
    "  vector[n - 1] p;\n",
    "  {\n",
    "    real tau0 = (m0 / (n - m0)) * (sigma / sqrt(1.0 * n));\n",
    "    real c2 = slab_scale2 * c2_tilde;\n",
    "    real tau = tau0 * tau_tilde;\n",
    "    vector[n - 1] lambda_tilde =\n",
    "      sqrt( c2 * square(lambda) ./ (c2 + square(tau) * square(lambda)) );\n",
    "    p = tau * lambda_tilde .* p_tilde;\n",
    "  }\n",
    "}\n",
    "model {\n",
    "    for (i in 2:n) log_v[i] ~ normal(log_v[i - 1] + theta*(mu - log_v[i - 1]) + p[i - 1], sigma);\n",
    "    sigma ~ normal(0, 1);\n",
    "    mu ~ normal(1, 2);\n",
    "    p_tilde ~ normal(0, 1);\n",
    "    lambda ~ cauchy(0, 1);\n",
    "    c2_tilde ~ inv_gamma(half_slab_df, half_slab_df);\n",
    "    tau_tilde ~ cauchy(0, 1);\n",
    "}\n",
    "generated quantities {\n",
    "  vector[n] log_v_rep;\n",
    "  log_v_rep[1] = log_v[1];\n",
    "  for (i in 2:n) log_v_rep[i] = normal_rng(log_v_rep[i - 1] + theta*(mu - log_v_rep[i - 1]) + p[i - 1], sigma);\n",
    "}\n",
    "\"\"\""
   ]
  },
  {
   "cell_type": "code",
   "execution_count": null,
   "metadata": {},
   "outputs": [],
   "source": [
    "model = pystan.StanModel(model_code=outlier_model)"
   ]
  },
  {
   "cell_type": "code",
   "execution_count": null,
   "metadata": {},
   "outputs": [],
   "source": [
    "stan_data = {\n",
    "    \"n\": len(data[\"speed\"]),\n",
    "    \"log_v\": np.log1p(data[\"speed\"])\n",
    "}\n",
    "fit = model.sampling(data=stan_data, seed=42)"
   ]
  },
  {
   "cell_type": "code",
   "execution_count": null,
   "metadata": {},
   "outputs": [],
   "source": [
    "plt.plot(fit[\"log_v_rep\"][1, :])\n",
    "plt.plot(np.log1p(data[\"speed\"]));"
   ]
  },
  {
   "cell_type": "code",
   "execution_count": null,
   "metadata": {},
   "outputs": [],
   "source": [
    "sns.distplot(fit[\"log_v_rep\"][2, :])\n",
    "sns.distplot(np.log1p(data[\"speed\"]));"
   ]
  },
  {
   "cell_type": "markdown",
   "metadata": {},
   "source": [
    "That's a bit better, although the sparse prior might not be forcing the parameters to zero often enough as there are hints of overfitting."
   ]
  },
  {
   "cell_type": "code",
   "execution_count": null,
   "metadata": {},
   "outputs": [],
   "source": [
    "fit.plot([\"p\"]);"
   ]
  },
  {
   "cell_type": "markdown",
   "metadata": {},
   "source": [
    "Starting to think this might be the wrong model actually..."
   ]
  }
 ],
 "metadata": {
  "kernelspec": {
   "display_name": "Python 3",
   "language": "python",
   "name": "python3"
  },
  "language_info": {
   "codemirror_mode": {
    "name": "ipython",
    "version": 3
   },
   "file_extension": ".py",
   "mimetype": "text/x-python",
   "name": "python",
   "nbconvert_exporter": "python",
   "pygments_lexer": "ipython3",
   "version": "3.6.5"
  }
 },
 "nbformat": 4,
 "nbformat_minor": 2
}
